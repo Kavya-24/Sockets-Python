{
 "cells": [
  {
   "cell_type": "code",
   "execution_count": 24,
   "metadata": {},
   "outputs": [
    {
     "name": "stdout",
     "output_type": "stream",
     "text": [
      "HTTP/1.1 200 OK\r\n",
      "Date: Sun, 12 Jul 2020 15:23:10 GMT\r\n",
      "Server: Apache/2.4.18 (Ubuntu)\r\n",
      "Last-Modified: Sat, 13 May 2017 11:22:22 GMT\r\n",
      "ETag: \"1d3-54f6609240717\"\r\n",
      "Accept-Ranges: bytes\r\n",
      "Content-Length: 467\r\n",
      "Cache-Control: max-age=0, no-cache, no-store, must-revalidate\r\n",
      "Pragma: no-cache\r\n",
      "Expires: Wed, 11 Jan 1984 05:00:00 GMT\r\n",
      "Connection: close\r\n",
      "Content-Type: text/plain\r\n",
      "\r\n",
      "Why should you learn to write programs?\n",
      "\n",
      "Writing programs (or programming) is a very creative \n",
      "and rewarding activity.  You can write programs for \n",
      "many reasons, ranging from making your living to solving\n",
      "a difficult data analysis problem to having fun to helping\n",
      "someone else solve a problem.  This book assumes that \n",
      "everyone needs to know how to program, and that once \n",
      "you know how to program you will figure out what you want \n",
      "to do with your newfound skills.  \n",
      "\n"
     ]
    }
   ],
   "source": [
    "import socket\n",
    "\n",
    "#These are the lowest levels of TCP/IP \n",
    "#Create socket\n",
    "mSocket = socket.socket(socket.AF_INET, socket.SOCK_STREAM)\n",
    "#Add a host URL\n",
    "url = 'data.pr4e.org'\n",
    "url2 = 'www.wikipedia.org'\n",
    "#Use port for usage. Http = 80\n",
    "mSocket.connect((url,80))\n",
    "\n",
    "\n",
    "#TCP/IP\n",
    "#Application ->Tranposrt ->Internet -> Links -> Internet -> Transport -> Application\n",
    "\n",
    "#Why use HTTP \n",
    "#Used to retrive images, HTML files, documents etc\n",
    "#A set of protocols to do so over the web. HTTPS also standardized the URLs (Uniform Resource Locators)\n",
    "#A GET request is issued in the case when a HTML page is retrived\n",
    "\n",
    "#Create a command to retrive a particular file\n",
    "#formatOfCommand = '(requestType) (port) (host) (file) (extensions)'\n",
    "#Use telnet to connect to any port in insecure manner\n",
    "\n",
    "cmd = 'GET http://data.pr4e.org/romeo.txt HTTP/1.0\\r\\n\\r\\n'.encode()\n",
    "#Command to get all the directories on the page of url\n",
    "cmd2 = 'GET http://data.pr4e.org HTTP/1.0\\r\\n\\r\\n'.encode()\n",
    "cmd3 = 'GET http://data.pr4e.org/intro-short.txt HTTP/1.0\\r\\n\\r\\n'.encode()\n",
    "mSocket.send(cmd3)\n",
    "\n",
    "#Socket operates to send, connect, recieve\n",
    "#Protocol for HTTP : We SEND first, Server RECIEVES first\n",
    "#Print all the stuff in the scree\n",
    "while True:\n",
    "    #Recive upto 1200 characters\n",
    "    data = mSocket.recv(1200)\n",
    "    if len(data) < 1:\n",
    "        break\n",
    "    print(data.decode())\n",
    "    \n",
    "mSocket.close()\n"
   ]
  }
 ],
 "metadata": {
  "kernelspec": {
   "display_name": "Python 3",
   "language": "python",
   "name": "python3"
  },
  "language_info": {
   "codemirror_mode": {
    "name": "ipython",
    "version": 3
   },
   "file_extension": ".py",
   "mimetype": "text/x-python",
   "name": "python",
   "nbconvert_exporter": "python",
   "pygments_lexer": "ipython3",
   "version": "3.7.3"
  }
 },
 "nbformat": 4,
 "nbformat_minor": 2
}

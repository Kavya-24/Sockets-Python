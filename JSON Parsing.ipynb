{
 "cells": [
  {
   "cell_type": "code",
   "execution_count": 7,
   "metadata": {},
   "outputs": [
    {
     "name": "stdout",
     "output_type": "stream",
     "text": [
      "Enter URL: http://py4e-data.dr-chuck.net/comments_776138.json\n",
      "2699\n"
     ]
    }
   ],
   "source": [
    "import json\n",
    "import urllib.request, urllib.error, urllib.response , urllib.parse\n",
    "\n",
    "url = input(\"Enter URL: \")\n",
    "uh = urllib.request.urlopen(url)\n",
    "data = uh.read().decode()\n",
    "mSum = 0\n",
    "js = json.loads(data)\n",
    "for i in js[\"comments\"]:\n",
    "    mSum = mSum + int(i[\"count\"])\n",
    "\n",
    "print(mSum)"
   ]
  }
 ],
 "metadata": {
  "kernelspec": {
   "display_name": "Python 3",
   "language": "python",
   "name": "python3"
  },
  "language_info": {
   "codemirror_mode": {
    "name": "ipython",
    "version": 3
   },
   "file_extension": ".py",
   "mimetype": "text/x-python",
   "name": "python",
   "nbconvert_exporter": "python",
   "pygments_lexer": "ipython3",
   "version": "3.7.3"
  }
 },
 "nbformat": 4,
 "nbformat_minor": 2
}
